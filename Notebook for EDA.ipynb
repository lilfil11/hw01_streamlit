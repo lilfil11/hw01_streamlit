{
 "cells": [
  {
   "cell_type": "code",
   "execution_count": 1,
   "id": "47989cd4",
   "metadata": {},
   "outputs": [],
   "source": [
    "import numpy as np\n",
    "import pandas as pd"
   ]
  },
  {
   "cell_type": "code",
   "execution_count": 2,
   "id": "0d0b19d8",
   "metadata": {},
   "outputs": [],
   "source": [
    "df_clients = pd.read_csv('datasets/D_clients.csv')\n",
    "df_close_loan = pd.read_csv('datasets/D_close_loan.csv')\n",
    "df_job = pd.read_csv('datasets/D_job.csv')\n",
    "df_last_credit = pd.read_csv('datasets/D_last_credit.csv')\n",
    "df_loan = pd.read_csv('datasets/D_loan.csv')\n",
    "df_pens = pd.read_csv('datasets/D_pens.csv')\n",
    "df_salary = pd.read_csv('datasets/D_salary.csv')\n",
    "df_target = pd.read_csv('datasets/D_target.csv')\n",
    "df_work = pd.read_csv('datasets/D_work.csv')"
   ]
  },
  {
   "cell_type": "markdown",
   "id": "e0fd9c07",
   "metadata": {},
   "source": [
    "#### Проанализируем содержимое таблиц"
   ]
  },
  {
   "cell_type": "markdown",
   "id": "1e857e24",
   "metadata": {},
   "source": [
    "1. Таблица `D_clients` содержит столбцы `SOCSTATUS_WORK_FL` и `SOCSTATUS_PENS_FL`, описание которых противоречит информации из таблиц `D_work` и `D_pens`. Всвязи с этим, будем использовать информацию из описания столбцов в ноутбуке `BD_homework`, тогда таблицы `D_work` и `D_pens` нам не нужны."
   ]
  },
  {
   "cell_type": "code",
   "execution_count": 3,
   "id": "744ff227",
   "metadata": {},
   "outputs": [
    {
     "data": {
      "text/html": [
       "<div>\n",
       "<style scoped>\n",
       "    .dataframe tbody tr th:only-of-type {\n",
       "        vertical-align: middle;\n",
       "    }\n",
       "\n",
       "    .dataframe tbody tr th {\n",
       "        vertical-align: top;\n",
       "    }\n",
       "\n",
       "    .dataframe thead th {\n",
       "        text-align: right;\n",
       "    }\n",
       "</style>\n",
       "<table border=\"1\" class=\"dataframe\">\n",
       "  <thead>\n",
       "    <tr style=\"text-align: right;\">\n",
       "      <th></th>\n",
       "      <th>ID</th>\n",
       "      <th>FLAG</th>\n",
       "      <th>COMMENT</th>\n",
       "    </tr>\n",
       "  </thead>\n",
       "  <tbody>\n",
       "    <tr>\n",
       "      <th>0</th>\n",
       "      <td>1</td>\n",
       "      <td>0</td>\n",
       "      <td>работает</td>\n",
       "    </tr>\n",
       "    <tr>\n",
       "      <th>1</th>\n",
       "      <td>2</td>\n",
       "      <td>1</td>\n",
       "      <td>не работает</td>\n",
       "    </tr>\n",
       "    <tr>\n",
       "      <th>2</th>\n",
       "      <td>3</td>\n",
       "      <td>2</td>\n",
       "      <td>не известно</td>\n",
       "    </tr>\n",
       "  </tbody>\n",
       "</table>\n",
       "</div>"
      ],
      "text/plain": [
       "   ID  FLAG      COMMENT\n",
       "0   1     0     работает\n",
       "1   2     1  не работает\n",
       "2   3     2  не известно"
      ]
     },
     "execution_count": 3,
     "metadata": {},
     "output_type": "execute_result"
    }
   ],
   "source": [
    "df_work"
   ]
  },
  {
   "cell_type": "code",
   "execution_count": 4,
   "id": "c87ab43c",
   "metadata": {},
   "outputs": [
    {
     "data": {
      "text/html": [
       "<div>\n",
       "<style scoped>\n",
       "    .dataframe tbody tr th:only-of-type {\n",
       "        vertical-align: middle;\n",
       "    }\n",
       "\n",
       "    .dataframe tbody tr th {\n",
       "        vertical-align: top;\n",
       "    }\n",
       "\n",
       "    .dataframe thead th {\n",
       "        text-align: right;\n",
       "    }\n",
       "</style>\n",
       "<table border=\"1\" class=\"dataframe\">\n",
       "  <thead>\n",
       "    <tr style=\"text-align: right;\">\n",
       "      <th></th>\n",
       "      <th>ID</th>\n",
       "      <th>FLAG</th>\n",
       "      <th>COMMENT</th>\n",
       "    </tr>\n",
       "  </thead>\n",
       "  <tbody>\n",
       "    <tr>\n",
       "      <th>0</th>\n",
       "      <td>1</td>\n",
       "      <td>0</td>\n",
       "      <td>пенсионер</td>\n",
       "    </tr>\n",
       "    <tr>\n",
       "      <th>1</th>\n",
       "      <td>2</td>\n",
       "      <td>1</td>\n",
       "      <td>не пенсионер</td>\n",
       "    </tr>\n",
       "  </tbody>\n",
       "</table>\n",
       "</div>"
      ],
      "text/plain": [
       "   ID  FLAG       COMMENT\n",
       "0   1     0     пенсионер\n",
       "1   2     1  не пенсионер"
      ]
     },
     "execution_count": 4,
     "metadata": {},
     "output_type": "execute_result"
    }
   ],
   "source": [
    "df_pens"
   ]
  },
  {
   "cell_type": "code",
   "execution_count": 5,
   "id": "92af9b06",
   "metadata": {},
   "outputs": [
    {
     "data": {
      "text/html": [
       "<div>\n",
       "<style scoped>\n",
       "    .dataframe tbody tr th:only-of-type {\n",
       "        vertical-align: middle;\n",
       "    }\n",
       "\n",
       "    .dataframe tbody tr th {\n",
       "        vertical-align: top;\n",
       "    }\n",
       "\n",
       "    .dataframe thead th {\n",
       "        text-align: right;\n",
       "    }\n",
       "</style>\n",
       "<table border=\"1\" class=\"dataframe\">\n",
       "  <thead>\n",
       "    <tr style=\"text-align: right;\">\n",
       "      <th></th>\n",
       "      <th>ID</th>\n",
       "      <th>AGE</th>\n",
       "      <th>GENDER</th>\n",
       "      <th>EDUCATION</th>\n",
       "      <th>MARITAL_STATUS</th>\n",
       "      <th>CHILD_TOTAL</th>\n",
       "      <th>DEPENDANTS</th>\n",
       "      <th>SOCSTATUS_WORK_FL</th>\n",
       "      <th>SOCSTATUS_PENS_FL</th>\n",
       "      <th>REG_ADDRESS_PROVINCE</th>\n",
       "      <th>FACT_ADDRESS_PROVINCE</th>\n",
       "      <th>POSTAL_ADDRESS_PROVINCE</th>\n",
       "      <th>FL_PRESENCE_FL</th>\n",
       "      <th>OWN_AUTO</th>\n",
       "    </tr>\n",
       "  </thead>\n",
       "  <tbody>\n",
       "    <tr>\n",
       "      <th>0</th>\n",
       "      <td>106805103</td>\n",
       "      <td>42</td>\n",
       "      <td>1</td>\n",
       "      <td>Среднее</td>\n",
       "      <td>Не состоял в браке</td>\n",
       "      <td>1</td>\n",
       "      <td>0</td>\n",
       "      <td>1</td>\n",
       "      <td>0</td>\n",
       "      <td>Московская область</td>\n",
       "      <td>Московская область</td>\n",
       "      <td>Московская область</td>\n",
       "      <td>1</td>\n",
       "      <td>0</td>\n",
       "    </tr>\n",
       "    <tr>\n",
       "      <th>1</th>\n",
       "      <td>106809308</td>\n",
       "      <td>28</td>\n",
       "      <td>1</td>\n",
       "      <td>Среднее специальное</td>\n",
       "      <td>Состою в браке</td>\n",
       "      <td>1</td>\n",
       "      <td>1</td>\n",
       "      <td>1</td>\n",
       "      <td>0</td>\n",
       "      <td>Читинская область</td>\n",
       "      <td>Читинская область</td>\n",
       "      <td>Читинская область</td>\n",
       "      <td>0</td>\n",
       "      <td>0</td>\n",
       "    </tr>\n",
       "    <tr>\n",
       "      <th>2</th>\n",
       "      <td>106805867</td>\n",
       "      <td>64</td>\n",
       "      <td>0</td>\n",
       "      <td>Среднее специальное</td>\n",
       "      <td>Состою в браке</td>\n",
       "      <td>2</td>\n",
       "      <td>0</td>\n",
       "      <td>1</td>\n",
       "      <td>1</td>\n",
       "      <td>Иркутская область</td>\n",
       "      <td>Иркутская область</td>\n",
       "      <td>Иркутская область</td>\n",
       "      <td>0</td>\n",
       "      <td>1</td>\n",
       "    </tr>\n",
       "    <tr>\n",
       "      <th>3</th>\n",
       "      <td>106808779</td>\n",
       "      <td>54</td>\n",
       "      <td>1</td>\n",
       "      <td>Среднее специальное</td>\n",
       "      <td>Состою в браке</td>\n",
       "      <td>0</td>\n",
       "      <td>0</td>\n",
       "      <td>1</td>\n",
       "      <td>0</td>\n",
       "      <td>Новосибирская область</td>\n",
       "      <td>Новосибирская область</td>\n",
       "      <td>Новосибирская область</td>\n",
       "      <td>1</td>\n",
       "      <td>1</td>\n",
       "    </tr>\n",
       "    <tr>\n",
       "      <th>4</th>\n",
       "      <td>106814289</td>\n",
       "      <td>26</td>\n",
       "      <td>0</td>\n",
       "      <td>Среднее специальное</td>\n",
       "      <td>Состою в браке</td>\n",
       "      <td>1</td>\n",
       "      <td>1</td>\n",
       "      <td>1</td>\n",
       "      <td>0</td>\n",
       "      <td>Красноярский край</td>\n",
       "      <td>Красноярский край</td>\n",
       "      <td>Красноярский край</td>\n",
       "      <td>1</td>\n",
       "      <td>0</td>\n",
       "    </tr>\n",
       "  </tbody>\n",
       "</table>\n",
       "</div>"
      ],
      "text/plain": [
       "          ID  AGE  GENDER            EDUCATION      MARITAL_STATUS  \\\n",
       "0  106805103   42       1              Среднее  Не состоял в браке   \n",
       "1  106809308   28       1  Среднее специальное      Состою в браке   \n",
       "2  106805867   64       0  Среднее специальное      Состою в браке   \n",
       "3  106808779   54       1  Среднее специальное      Состою в браке   \n",
       "4  106814289   26       0  Среднее специальное      Состою в браке   \n",
       "\n",
       "   CHILD_TOTAL  DEPENDANTS  SOCSTATUS_WORK_FL  SOCSTATUS_PENS_FL  \\\n",
       "0            1           0                  1                  0   \n",
       "1            1           1                  1                  0   \n",
       "2            2           0                  1                  1   \n",
       "3            0           0                  1                  0   \n",
       "4            1           1                  1                  0   \n",
       "\n",
       "    REG_ADDRESS_PROVINCE  FACT_ADDRESS_PROVINCE POSTAL_ADDRESS_PROVINCE  \\\n",
       "0     Московская область     Московская область      Московская область   \n",
       "1      Читинская область      Читинская область       Читинская область   \n",
       "2      Иркутская область      Иркутская область       Иркутская область   \n",
       "3  Новосибирская область  Новосибирская область   Новосибирская область   \n",
       "4      Красноярский край      Красноярский край       Красноярский край   \n",
       "\n",
       "   FL_PRESENCE_FL  OWN_AUTO  \n",
       "0               1         0  \n",
       "1               0         0  \n",
       "2               0         1  \n",
       "3               1         1  \n",
       "4               1         0  "
      ]
     },
     "execution_count": 5,
     "metadata": {},
     "output_type": "execute_result"
    }
   ],
   "source": [
    "df_clients.head()"
   ]
  },
  {
   "attachments": {
    "image-2.png": {
     "image/png": "[encoded data removed]"
    }
   },
   "cell_type": "markdown",
   "id": "7bfd3e4a",
   "metadata": {},
   "source": [
    "![image-2.png](attachment:image-2.png)"
   ]
  },
  {
   "cell_type": "markdown",
   "id": "7c510d14",
   "metadata": {},
   "source": [
    "2. Заметим, что столбцы `REG_ADDRESS_PROVINCE`, `FACT_ADDRESS_PROVINCE` и `POSTAL_ADDRESS_PROVINCE` совпадают друг с другом за исключением 150-200 строк, однако не будем заменять эти три столбца каким-нибудь одним из них, потому что несовпадающая информация разумна и может быть важной."
   ]
  },
  {
   "cell_type": "code",
   "execution_count": 6,
   "id": "330a679e",
   "metadata": {},
   "outputs": [
    {
     "data": {
      "text/plain": [
       "15801"
      ]
     },
     "execution_count": 6,
     "metadata": {},
     "output_type": "execute_result"
    }
   ],
   "source": [
    "(df_clients['REG_ADDRESS_PROVINCE'] == df_clients['FACT_ADDRESS_PROVINCE']).sum()"
   ]
  },
  {
   "cell_type": "code",
   "execution_count": 7,
   "id": "8dc38306",
   "metadata": {},
   "outputs": [
    {
     "data": {
      "text/plain": [
       "15844"
      ]
     },
     "execution_count": 7,
     "metadata": {},
     "output_type": "execute_result"
    }
   ],
   "source": [
    "(df_clients['REG_ADDRESS_PROVINCE'] == df_clients['POSTAL_ADDRESS_PROVINCE']).sum()"
   ]
  },
  {
   "cell_type": "code",
   "execution_count": 8,
   "id": "27c2d1c8",
   "metadata": {},
   "outputs": [
    {
     "data": {
      "text/plain": [
       "15955"
      ]
     },
     "execution_count": 8,
     "metadata": {},
     "output_type": "execute_result"
    }
   ],
   "source": [
    "(df_clients['FACT_ADDRESS_PROVINCE'] == df_clients['POSTAL_ADDRESS_PROVINCE']).sum()"
   ]
  },
  {
   "cell_type": "markdown",
   "id": "4675c60b",
   "metadata": {},
   "source": [
    "3. В таблице `D_job` есть много строчек, полностью состоящих из `NaN`."
   ]
  },
  {
   "cell_type": "code",
   "execution_count": 9,
   "id": "36518701",
   "metadata": {},
   "outputs": [
    {
     "data": {
      "text/plain": [
       "GEN_INDUSTRY    1367\n",
       "GEN_TITLE       1367\n",
       "JOB_DIR         1367\n",
       "WORK_TIME       1368\n",
       "ID_CLIENT          0\n",
       "dtype: int64"
      ]
     },
     "execution_count": 9,
     "metadata": {},
     "output_type": "execute_result"
    }
   ],
   "source": [
    "df_job.isna().sum()"
   ]
  },
  {
   "cell_type": "markdown",
   "id": "c4da425c",
   "metadata": {},
   "source": [
    "Удалим их: "
   ]
  },
  {
   "cell_type": "code",
   "execution_count": 10,
   "id": "ab670e24",
   "metadata": {},
   "outputs": [
    {
     "data": {
      "text/plain": [
       "GEN_INDUSTRY    0\n",
       "GEN_TITLE       0\n",
       "JOB_DIR         0\n",
       "WORK_TIME       0\n",
       "ID_CLIENT       0\n",
       "dtype: int64"
      ]
     },
     "execution_count": 10,
     "metadata": {},
     "output_type": "execute_result"
    }
   ],
   "source": [
    "df_job.dropna(inplace=True)\n",
    "df_job = df_job.reset_index().drop('index', axis=1)\n",
    "df_job.isna().sum()"
   ]
  },
  {
   "cell_type": "markdown",
   "id": "5fd72a6d",
   "metadata": {},
   "source": [
    "4. Преобразуем к `int` некоторые целочисленные характеристики, имеющие тип `float`."
   ]
  },
  {
   "cell_type": "code",
   "execution_count": 11,
   "id": "cba20dd3",
   "metadata": {},
   "outputs": [],
   "source": [
    "df_job['WORK_TIME'] = df_job['WORK_TIME'].astype(np.int64)\n",
    "df_salary['PERSONAL_INCOME'] = df_salary['PERSONAL_INCOME'].astype(np.int64)\n",
    "df_last_credit['CREDIT'] = df_last_credit['CREDIT'].astype(np.int64)\n",
    "df_last_credit['FST_PAYMENT'] = df_last_credit['FST_PAYMENT'].astype(np.int64)"
   ]
  },
  {
   "cell_type": "markdown",
   "id": "b734e9f7",
   "metadata": {},
   "source": [
    "5. В таблице `D_clients` есть много дубликатов (без `ID`)."
   ]
  },
  {
   "cell_type": "code",
   "execution_count": 12,
   "id": "4858a1a0",
   "metadata": {},
   "outputs": [
    {
     "data": {
      "text/plain": [
       "2733"
      ]
     },
     "execution_count": 12,
     "metadata": {},
     "output_type": "execute_result"
    }
   ],
   "source": [
    "df_clients.duplicated(subset=df_clients.columns.drop('ID'), keep=False).sum()"
   ]
  },
  {
   "cell_type": "markdown",
   "id": "2359f52a",
   "metadata": {},
   "source": [
    "Удалим их: "
   ]
  },
  {
   "cell_type": "code",
   "execution_count": 13,
   "id": "247da3ee",
   "metadata": {},
   "outputs": [],
   "source": [
    "df_clients.drop_duplicates(subset=df_clients.columns.drop('ID'), keep='first', inplace=True);"
   ]
  },
  {
   "cell_type": "code",
   "execution_count": 14,
   "id": "929a6b6c",
   "metadata": {},
   "outputs": [
    {
     "data": {
      "text/plain": [
       "(14570, 14)"
      ]
     },
     "execution_count": 14,
     "metadata": {},
     "output_type": "execute_result"
    }
   ],
   "source": [
    "df_clients.shape"
   ]
  },
  {
   "cell_type": "markdown",
   "id": "af2ef926",
   "metadata": {},
   "source": [
    "#### Соберём все таблицы в одну"
   ]
  },
  {
   "cell_type": "code",
   "execution_count": 15,
   "id": "9d281c91",
   "metadata": {},
   "outputs": [],
   "source": [
    "df_merge = df_clients.merge(df_job, how='left', left_on='ID', right_on='ID_CLIENT').drop('ID_CLIENT', axis=1)\n",
    "df_merge = df_merge.merge(df_salary, how='left', left_on='ID', right_on='ID_CLIENT').drop('ID_CLIENT', axis=1)\n",
    "df_merge = df_merge.merge(df_last_credit, how='left', left_on='ID', right_on='ID_CLIENT').drop('ID_CLIENT', axis=1)\n",
    "df_merge = df_merge.merge(df_loan, how='left', left_on='ID', right_on='ID_CLIENT').drop('ID_CLIENT', axis=1)\n",
    "df_merge = df_merge.merge(df_close_loan, how='left', left_on='ID_LOAN', right_on='ID_LOAN').drop('ID_LOAN', axis=1)\n",
    "df_merge = df_merge.merge(df_target, how='left', left_on='ID', right_on='ID_CLIENT').drop('ID_CLIENT', axis=1)\n",
    "\n",
    "df_merge = df_merge.drop_duplicates(subset='ID').reset_index().drop('index', axis=1)"
   ]
  },
  {
   "cell_type": "markdown",
   "id": "73864599",
   "metadata": {},
   "source": [
    "Посмотрим на пропуски:"
   ]
  },
  {
   "cell_type": "code",
   "execution_count": 16,
   "id": "b5d35110",
   "metadata": {},
   "outputs": [
    {
     "data": {
      "text/plain": [
       "ID                            0\n",
       "AGE                           0\n",
       "GENDER                        0\n",
       "EDUCATION                     0\n",
       "MARITAL_STATUS                0\n",
       "CHILD_TOTAL                   0\n",
       "DEPENDANTS                    0\n",
       "SOCSTATUS_WORK_FL             0\n",
       "SOCSTATUS_PENS_FL             0\n",
       "REG_ADDRESS_PROVINCE          0\n",
       "FACT_ADDRESS_PROVINCE         0\n",
       "POSTAL_ADDRESS_PROVINCE       0\n",
       "FL_PRESENCE_FL                0\n",
       "OWN_AUTO                      0\n",
       "GEN_INDUSTRY               1715\n",
       "GEN_TITLE                  1715\n",
       "JOB_DIR                    1715\n",
       "WORK_TIME                  1715\n",
       "FAMILY_INCOME               400\n",
       "PERSONAL_INCOME             400\n",
       "CREDIT                      400\n",
       "TERM                        400\n",
       "FST_PAYMENT                 400\n",
       "CLOSED_FL                   400\n",
       "AGREEMENT_RK                400\n",
       "TARGET                      400\n",
       "dtype: int64"
      ]
     },
     "execution_count": 16,
     "metadata": {},
     "output_type": "execute_result"
    }
   ],
   "source": [
    "df_merge.isna().sum()"
   ]
  },
  {
   "cell_type": "markdown",
   "id": "4e83f97f",
   "metadata": {},
   "source": [
    "Заполним их наиболее часто встречающимися значениями:"
   ]
  },
  {
   "cell_type": "code",
   "execution_count": 17,
   "id": "8ce70cc6",
   "metadata": {},
   "outputs": [],
   "source": [
    "from sklearn import impute\n",
    "\n",
    "miss_columns = ['GEN_INDUSTRY', 'GEN_TITLE', 'JOB_DIR', 'FAMILY_INCOME', 'WORK_TIME', 'PERSONAL_INCOME', 'CREDIT', 'TERM', 'FST_PAYMENT', 'CLOSED_FL', 'AGREEMENT_RK', 'TARGET']\n",
    "miss_replacer = impute.SimpleImputer(strategy='most_frequent')\n",
    "\n",
    "df_merge_miss = df_merge[miss_columns]\n",
    "df_merge[miss_columns] = pd.DataFrame(data=miss_replacer.fit_transform(df_merge_miss), columns=df_merge_miss.columns)"
   ]
  },
  {
   "cell_type": "code",
   "execution_count": 18,
   "id": "93b86072",
   "metadata": {},
   "outputs": [
    {
     "data": {
      "text/plain": [
       "ID                         0\n",
       "AGE                        0\n",
       "GENDER                     0\n",
       "EDUCATION                  0\n",
       "MARITAL_STATUS             0\n",
       "CHILD_TOTAL                0\n",
       "DEPENDANTS                 0\n",
       "SOCSTATUS_WORK_FL          0\n",
       "SOCSTATUS_PENS_FL          0\n",
       "REG_ADDRESS_PROVINCE       0\n",
       "FACT_ADDRESS_PROVINCE      0\n",
       "POSTAL_ADDRESS_PROVINCE    0\n",
       "FL_PRESENCE_FL             0\n",
       "OWN_AUTO                   0\n",
       "GEN_INDUSTRY               0\n",
       "GEN_TITLE                  0\n",
       "JOB_DIR                    0\n",
       "WORK_TIME                  0\n",
       "FAMILY_INCOME              0\n",
       "PERSONAL_INCOME            0\n",
       "CREDIT                     0\n",
       "TERM                       0\n",
       "FST_PAYMENT                0\n",
       "CLOSED_FL                  0\n",
       "AGREEMENT_RK               0\n",
       "TARGET                     0\n",
       "dtype: int64"
      ]
     },
     "execution_count": 18,
     "metadata": {},
     "output_type": "execute_result"
    }
   ],
   "source": [
    "df_merge.isna().sum()"
   ]
  },
  {
   "cell_type": "markdown",
   "id": "e720a406",
   "metadata": {},
   "source": [
    "Заметим, что некоторые столбцы привелись к типу `float`, вернём их обратно к нужным типам:"
   ]
  },
  {
   "cell_type": "code",
   "execution_count": 19,
   "id": "3837317c",
   "metadata": {},
   "outputs": [],
   "source": [
    "df_merge[['WORK_TIME', 'PERSONAL_INCOME', 'CREDIT', 'TERM', 'FST_PAYMENT', 'CLOSED_FL', 'AGREEMENT_RK', 'TARGET']] = df_merge[['WORK_TIME', 'PERSONAL_INCOME', 'CREDIT', 'TERM', 'FST_PAYMENT', 'CLOSED_FL', 'AGREEMENT_RK', 'TARGET']].astype(np.int64)"
   ]
  },
  {
   "cell_type": "code",
   "execution_count": 20,
   "id": "3a55dbf6",
   "metadata": {},
   "outputs": [
    {
     "data": {
      "text/html": [
       "<div>\n",
       "<style scoped>\n",
       "    .dataframe tbody tr th:only-of-type {\n",
       "        vertical-align: middle;\n",
       "    }\n",
       "\n",
       "    .dataframe tbody tr th {\n",
       "        vertical-align: top;\n",
       "    }\n",
       "\n",
       "    .dataframe thead th {\n",
       "        text-align: right;\n",
       "    }\n",
       "</style>\n",
       "<table border=\"1\" class=\"dataframe\">\n",
       "  <thead>\n",
       "    <tr style=\"text-align: right;\">\n",
       "      <th></th>\n",
       "      <th>ID</th>\n",
       "      <th>AGE</th>\n",
       "      <th>GENDER</th>\n",
       "      <th>EDUCATION</th>\n",
       "      <th>MARITAL_STATUS</th>\n",
       "      <th>CHILD_TOTAL</th>\n",
       "      <th>DEPENDANTS</th>\n",
       "      <th>SOCSTATUS_WORK_FL</th>\n",
       "      <th>SOCSTATUS_PENS_FL</th>\n",
       "      <th>REG_ADDRESS_PROVINCE</th>\n",
       "      <th>...</th>\n",
       "      <th>JOB_DIR</th>\n",
       "      <th>WORK_TIME</th>\n",
       "      <th>FAMILY_INCOME</th>\n",
       "      <th>PERSONAL_INCOME</th>\n",
       "      <th>CREDIT</th>\n",
       "      <th>TERM</th>\n",
       "      <th>FST_PAYMENT</th>\n",
       "      <th>CLOSED_FL</th>\n",
       "      <th>AGREEMENT_RK</th>\n",
       "      <th>TARGET</th>\n",
       "    </tr>\n",
       "  </thead>\n",
       "  <tbody>\n",
       "    <tr>\n",
       "      <th>0</th>\n",
       "      <td>106805103</td>\n",
       "      <td>42</td>\n",
       "      <td>1</td>\n",
       "      <td>Среднее</td>\n",
       "      <td>Не состоял в браке</td>\n",
       "      <td>1</td>\n",
       "      <td>0</td>\n",
       "      <td>1</td>\n",
       "      <td>0</td>\n",
       "      <td>Московская область</td>\n",
       "      <td>...</td>\n",
       "      <td>Участие в основ. деятельности</td>\n",
       "      <td>3</td>\n",
       "      <td>от 20000 до 50000 руб.</td>\n",
       "      <td>25000</td>\n",
       "      <td>5588</td>\n",
       "      <td>6</td>\n",
       "      <td>1000</td>\n",
       "      <td>0</td>\n",
       "      <td>60099204</td>\n",
       "      <td>1</td>\n",
       "    </tr>\n",
       "    <tr>\n",
       "      <th>1</th>\n",
       "      <td>106809308</td>\n",
       "      <td>28</td>\n",
       "      <td>1</td>\n",
       "      <td>Среднее специальное</td>\n",
       "      <td>Состою в браке</td>\n",
       "      <td>1</td>\n",
       "      <td>1</td>\n",
       "      <td>1</td>\n",
       "      <td>0</td>\n",
       "      <td>Читинская область</td>\n",
       "      <td>...</td>\n",
       "      <td>Участие в основ. деятельности</td>\n",
       "      <td>5</td>\n",
       "      <td>от 10000 до 20000 руб.</td>\n",
       "      <td>10000</td>\n",
       "      <td>19498</td>\n",
       "      <td>12</td>\n",
       "      <td>0</td>\n",
       "      <td>0</td>\n",
       "      <td>62244665</td>\n",
       "      <td>0</td>\n",
       "    </tr>\n",
       "    <tr>\n",
       "      <th>2</th>\n",
       "      <td>106805867</td>\n",
       "      <td>64</td>\n",
       "      <td>0</td>\n",
       "      <td>Среднее специальное</td>\n",
       "      <td>Состою в браке</td>\n",
       "      <td>2</td>\n",
       "      <td>0</td>\n",
       "      <td>1</td>\n",
       "      <td>1</td>\n",
       "      <td>Иркутская область</td>\n",
       "      <td>...</td>\n",
       "      <td>Участие в основ. деятельности</td>\n",
       "      <td>360</td>\n",
       "      <td>от 20000 до 50000 руб.</td>\n",
       "      <td>30000</td>\n",
       "      <td>15470</td>\n",
       "      <td>3</td>\n",
       "      <td>15000</td>\n",
       "      <td>1</td>\n",
       "      <td>61050759</td>\n",
       "      <td>0</td>\n",
       "    </tr>\n",
       "    <tr>\n",
       "      <th>3</th>\n",
       "      <td>106808779</td>\n",
       "      <td>54</td>\n",
       "      <td>1</td>\n",
       "      <td>Среднее специальное</td>\n",
       "      <td>Состою в браке</td>\n",
       "      <td>0</td>\n",
       "      <td>0</td>\n",
       "      <td>1</td>\n",
       "      <td>0</td>\n",
       "      <td>Новосибирская область</td>\n",
       "      <td>...</td>\n",
       "      <td>Участие в основ. деятельности</td>\n",
       "      <td>3</td>\n",
       "      <td>от 20000 до 50000 руб.</td>\n",
       "      <td>25000</td>\n",
       "      <td>13960</td>\n",
       "      <td>6</td>\n",
       "      <td>2500</td>\n",
       "      <td>0</td>\n",
       "      <td>62079659</td>\n",
       "      <td>0</td>\n",
       "    </tr>\n",
       "    <tr>\n",
       "      <th>4</th>\n",
       "      <td>106814289</td>\n",
       "      <td>26</td>\n",
       "      <td>0</td>\n",
       "      <td>Среднее специальное</td>\n",
       "      <td>Состою в браке</td>\n",
       "      <td>1</td>\n",
       "      <td>1</td>\n",
       "      <td>1</td>\n",
       "      <td>0</td>\n",
       "      <td>Красноярский край</td>\n",
       "      <td>...</td>\n",
       "      <td>Участие в основ. деятельности</td>\n",
       "      <td>12</td>\n",
       "      <td>от 10000 до 20000 руб.</td>\n",
       "      <td>15000</td>\n",
       "      <td>11890</td>\n",
       "      <td>6</td>\n",
       "      <td>8000</td>\n",
       "      <td>1</td>\n",
       "      <td>66583553</td>\n",
       "      <td>0</td>\n",
       "    </tr>\n",
       "  </tbody>\n",
       "</table>\n",
       "<p>5 rows × 26 columns</p>\n",
       "</div>"
      ],
      "text/plain": [
       "          ID  AGE  GENDER            EDUCATION      MARITAL_STATUS  \\\n",
       "0  106805103   42       1              Среднее  Не состоял в браке   \n",
       "1  106809308   28       1  Среднее специальное      Состою в браке   \n",
       "2  106805867   64       0  Среднее специальное      Состою в браке   \n",
       "3  106808779   54       1  Среднее специальное      Состою в браке   \n",
       "4  106814289   26       0  Среднее специальное      Состою в браке   \n",
       "\n",
       "   CHILD_TOTAL  DEPENDANTS  SOCSTATUS_WORK_FL  SOCSTATUS_PENS_FL  \\\n",
       "0            1           0                  1                  0   \n",
       "1            1           1                  1                  0   \n",
       "2            2           0                  1                  1   \n",
       "3            0           0                  1                  0   \n",
       "4            1           1                  1                  0   \n",
       "\n",
       "    REG_ADDRESS_PROVINCE  ...                        JOB_DIR WORK_TIME  \\\n",
       "0     Московская область  ...  Участие в основ. деятельности         3   \n",
       "1      Читинская область  ...  Участие в основ. деятельности         5   \n",
       "2      Иркутская область  ...  Участие в основ. деятельности       360   \n",
       "3  Новосибирская область  ...  Участие в основ. деятельности         3   \n",
       "4      Красноярский край  ...  Участие в основ. деятельности        12   \n",
       "\n",
       "            FAMILY_INCOME  PERSONAL_INCOME CREDIT TERM FST_PAYMENT  CLOSED_FL  \\\n",
       "0  от 20000 до 50000 руб.            25000   5588    6        1000          0   \n",
       "1  от 10000 до 20000 руб.            10000  19498   12           0          0   \n",
       "2  от 20000 до 50000 руб.            30000  15470    3       15000          1   \n",
       "3  от 20000 до 50000 руб.            25000  13960    6        2500          0   \n",
       "4  от 10000 до 20000 руб.            15000  11890    6        8000          1   \n",
       "\n",
       "  AGREEMENT_RK  TARGET  \n",
       "0     60099204       1  \n",
       "1     62244665       0  \n",
       "2     61050759       0  \n",
       "3     62079659       0  \n",
       "4     66583553       0  \n",
       "\n",
       "[5 rows x 26 columns]"
      ]
     },
     "execution_count": 20,
     "metadata": {},
     "output_type": "execute_result"
    }
   ],
   "source": [
    "df_merge.head()"
   ]
  },
  {
   "cell_type": "markdown",
   "id": "1ab7374b",
   "metadata": {},
   "source": [
    "Выгрузим итоговую таблицу в `csv` файл:"
   ]
  },
  {
   "cell_type": "code",
   "execution_count": 21,
   "id": "5e5c5700",
   "metadata": {},
   "outputs": [],
   "source": [
    "df_merge.to_csv('datasets/D_merge.csv')"
   ]
  }
 ],
 "metadata": {
  "kernelspec": {
   "display_name": "Python 3 (ipykernel)",
   "language": "python",
   "name": "python3"
  },
  "language_info": {
   "codemirror_mode": {
    "name": "ipython",
    "version": 3
   },
   "file_extension": ".py",
   "mimetype": "text/x-python",
   "name": "python",
   "nbconvert_exporter": "python",
   "pygments_lexer": "ipython3",
   "version": "3.11.5"
  }
 },
 "nbformat": 4,
 "nbformat_minor": 5
}
